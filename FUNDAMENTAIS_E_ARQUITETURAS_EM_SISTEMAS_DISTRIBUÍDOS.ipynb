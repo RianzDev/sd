{
  "nbformat": 4,
  "nbformat_minor": 0,
  "metadata": {
    "colab": {
      "provenance": [],
      "authorship_tag": "ABX9TyMPcKxWvuXwt/Rkrq57le0j",
      "include_colab_link": true
    },
    "kernelspec": {
      "name": "python3",
      "display_name": "Python 3"
    },
    "language_info": {
      "name": "python"
    }
  },
  "cells": [
    {
      "cell_type": "markdown",
      "metadata": {
        "id": "view-in-github",
        "colab_type": "text"
      },
      "source": [
        "<a href=\"https://colab.research.google.com/github/RianzDev/sd/blob/main/FUNDAMENTAIS_E_ARQUITETURAS_EM_SISTEMAS_DISTRIBU%C3%8DDOS.ipynb\" target=\"_parent\"><img src=\"https://colab.research.google.com/assets/colab-badge.svg\" alt=\"Open In Colab\"/></a>"
      ]
    },
    {
      "cell_type": "code",
      "execution_count": 3,
      "metadata": {
        "colab": {
          "base_uri": "https://localhost:8080/"
        },
        "id": "pGBxhbZnyURG",
        "outputId": "7f39ff41-a012-4f7d-a135-d704cb9c715e"
      },
      "outputs": [
        {
          "output_type": "stream",
          "name": "stderr",
          "text": [
            "ERROR:root:Erro ao chamar o método remoto: [Errno 111] Connection refused\n"
          ]
        }
      ],
      "source": [
        "\n",
        "import xmlrpc.client\n",
        "import logging\n",
        "\n",
        "# Configuração básica de logging\n",
        "logging.basicConfig(level=logging.INFO)\n",
        "\n",
        "# Endereço do servidor RPC\n",
        "# Substitua '127.0.0.1' pelo IP do seu servidor se estiver em máquinas diferentes\n",
        "server_url = \"http://127.0.0.1:8000/\"\n",
        "logging.info(f\"A conectar ao servidor RPC em: {server_url}\")\n",
        "\n",
        "# Crie um proxy para o servidor RPC\n",
        "proxy = xmlrpc.client.ServerProxy(server_url)\n",
        "\n",
        "# Chame o método remoto\n",
        "palavra_original = \"MINHA PALAVRA TESTE\"\n",
        "logging.info(f\"A enviar a palavra '{palavra_original}' para o servidor.\")\n",
        "\n",
        "try:\n",
        "    resultado = proxy.converter_para_minuscula(palavra_original)\n",
        "    logging.info(f\"Resultado do servidor: {resultado}\")\n",
        "except Exception as e:\n",
        "    logging.error(f\"Erro ao chamar o método remoto: {e}\")"
      ]
    }
  ]
}